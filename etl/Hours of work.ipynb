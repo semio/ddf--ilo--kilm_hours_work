{
 "cells": [
  {
   "cell_type": "code",
   "execution_count": 1,
   "metadata": {
    "collapsed": true
   },
   "outputs": [],
   "source": [
    "import pandas as pd\n",
    "import numpy as np\n",
    "import os\n",
    "\n",
    "from ddf_utils.str import to_concept_id\n",
    "from ddf_utils.index import create_index_file"
   ]
  },
  {
   "cell_type": "code",
   "execution_count": null,
   "metadata": {
    "collapsed": true
   },
   "outputs": [],
   "source": []
  },
  {
   "cell_type": "code",
   "execution_count": 2,
   "metadata": {
    "collapsed": true
   },
   "outputs": [],
   "source": [
    "source = 'source/kilm07.xlsx'"
   ]
  },
  {
   "cell_type": "code",
   "execution_count": 28,
   "metadata": {
    "collapsed": true
   },
   "outputs": [],
   "source": [
    "data = pd.read_excel(source, skiprows=2, sheetname='KILM 07b')"
   ]
  },
  {
   "cell_type": "code",
   "execution_count": null,
   "metadata": {
    "collapsed": true
   },
   "outputs": [],
   "source": []
  },
  {
   "cell_type": "code",
   "execution_count": 29,
   "metadata": {
    "collapsed": false
   },
   "outputs": [
    {
     "data": {
      "text/html": [
       "<div>\n",
       "<table border=\"1\" class=\"dataframe\">\n",
       "  <thead>\n",
       "    <tr style=\"text-align: right;\">\n",
       "      <th></th>\n",
       "      <th>Country (code)</th>\n",
       "      <th>Country</th>\n",
       "      <th>Region</th>\n",
       "      <th>Sub-region (broad)</th>\n",
       "      <th>Sub-region (detailed)</th>\n",
       "      <th>Income group (code)</th>\n",
       "      <th>Income group</th>\n",
       "      <th>B</th>\n",
       "      <th>Year</th>\n",
       "      <th>Annual number of hours actually worked per person</th>\n",
       "      <th>Repository (code)</th>\n",
       "      <th>Repository</th>\n",
       "      <th>Type of source (code)</th>\n",
       "      <th>Type of source</th>\n",
       "      <th>Coverage (code)</th>\n",
       "      <th>Coverage</th>\n",
       "      <th>Coverage (employment) (code)</th>\n",
       "      <th>Coverage (employment)</th>\n",
       "      <th>Survey limitation</th>\n",
       "      <th>Notes</th>\n",
       "    </tr>\n",
       "  </thead>\n",
       "  <tbody>\n",
       "    <tr>\n",
       "      <th>0</th>\n",
       "      <td>ARG</td>\n",
       "      <td>Argentina</td>\n",
       "      <td>Americas</td>\n",
       "      <td>Latin America and the Caribbean</td>\n",
       "      <td>South America</td>\n",
       "      <td>IV</td>\n",
       "      <td>High income</td>\n",
       "      <td>NaN</td>\n",
       "      <td>1990</td>\n",
       "      <td>2013</td>\n",
       "      <td>LIMA</td>\n",
       "      <td>Labour Overview (various years)</td>\n",
       "      <td>HS</td>\n",
       "      <td>Household or labour force survey</td>\n",
       "      <td>T</td>\n",
       "      <td>Total</td>\n",
       "      <td>TE</td>\n",
       "      <td>Total employment</td>\n",
       "      <td>NaN</td>\n",
       "      <td>NaN</td>\n",
       "    </tr>\n",
       "    <tr>\n",
       "      <th>1</th>\n",
       "      <td>ARG</td>\n",
       "      <td>Argentina</td>\n",
       "      <td>Americas</td>\n",
       "      <td>Latin America and the Caribbean</td>\n",
       "      <td>South America</td>\n",
       "      <td>IV</td>\n",
       "      <td>High income</td>\n",
       "      <td>NaN</td>\n",
       "      <td>1997</td>\n",
       "      <td>2017</td>\n",
       "      <td>LIMA</td>\n",
       "      <td>Labour Overview (various years)</td>\n",
       "      <td>HS</td>\n",
       "      <td>Household or labour force survey</td>\n",
       "      <td>T</td>\n",
       "      <td>Total</td>\n",
       "      <td>TE</td>\n",
       "      <td>Total employment</td>\n",
       "      <td>NaN</td>\n",
       "      <td>NaN</td>\n",
       "    </tr>\n",
       "    <tr>\n",
       "      <th>2</th>\n",
       "      <td>ARG</td>\n",
       "      <td>Argentina</td>\n",
       "      <td>Americas</td>\n",
       "      <td>Latin America and the Caribbean</td>\n",
       "      <td>South America</td>\n",
       "      <td>IV</td>\n",
       "      <td>High income</td>\n",
       "      <td>NaN</td>\n",
       "      <td>1999</td>\n",
       "      <td>1820</td>\n",
       "      <td>LIMA</td>\n",
       "      <td>Labour Overview (various years)</td>\n",
       "      <td>HS</td>\n",
       "      <td>Household or labour force survey</td>\n",
       "      <td>T</td>\n",
       "      <td>Total</td>\n",
       "      <td>TE</td>\n",
       "      <td>Total employment</td>\n",
       "      <td>NaN</td>\n",
       "      <td>NaN</td>\n",
       "    </tr>\n",
       "    <tr>\n",
       "      <th>3</th>\n",
       "      <td>ARG</td>\n",
       "      <td>Argentina</td>\n",
       "      <td>Americas</td>\n",
       "      <td>Latin America and the Caribbean</td>\n",
       "      <td>South America</td>\n",
       "      <td>IV</td>\n",
       "      <td>High income</td>\n",
       "      <td>b</td>\n",
       "      <td>2012</td>\n",
       "      <td>2048</td>\n",
       "      <td>NSO</td>\n",
       "      <td>National Statistics Office</td>\n",
       "      <td>LFS</td>\n",
       "      <td>Labour force survey</td>\n",
       "      <td>T</td>\n",
       "      <td>Total</td>\n",
       "      <td>TE</td>\n",
       "      <td>Total employment</td>\n",
       "      <td>NaN</td>\n",
       "      <td>Average hours actually worked per week annuali...</td>\n",
       "    </tr>\n",
       "    <tr>\n",
       "      <th>4</th>\n",
       "      <td>ARM</td>\n",
       "      <td>Armenia</td>\n",
       "      <td>Europe and Central Asia</td>\n",
       "      <td>Central and Western Asia</td>\n",
       "      <td>Western Asia</td>\n",
       "      <td>II</td>\n",
       "      <td>Lower-middle income</td>\n",
       "      <td>NaN</td>\n",
       "      <td>2009</td>\n",
       "      <td>1826</td>\n",
       "      <td>NSO</td>\n",
       "      <td>National Statistics Office</td>\n",
       "      <td>HS</td>\n",
       "      <td>Household or labour force survey</td>\n",
       "      <td>T</td>\n",
       "      <td>Total</td>\n",
       "      <td>TE</td>\n",
       "      <td>Total employment</td>\n",
       "      <td>NaN</td>\n",
       "      <td>Annual hours worked calculated on the basis of...</td>\n",
       "    </tr>\n",
       "  </tbody>\n",
       "</table>\n",
       "</div>"
      ],
      "text/plain": [
       "  Country (code)    Country                   Region  \\\n",
       "0            ARG  Argentina                 Americas   \n",
       "1            ARG  Argentina                 Americas   \n",
       "2            ARG  Argentina                 Americas   \n",
       "3            ARG  Argentina                 Americas   \n",
       "4            ARM    Armenia  Europe and Central Asia   \n",
       "\n",
       "                Sub-region (broad) Sub-region (detailed) Income group (code)  \\\n",
       "0  Latin America and the Caribbean         South America                  IV   \n",
       "1  Latin America and the Caribbean         South America                  IV   \n",
       "2  Latin America and the Caribbean         South America                  IV   \n",
       "3  Latin America and the Caribbean         South America                  IV   \n",
       "4         Central and Western Asia          Western Asia                  II   \n",
       "\n",
       "          Income group    B  Year  \\\n",
       "0          High income  NaN  1990   \n",
       "1          High income  NaN  1997   \n",
       "2          High income  NaN  1999   \n",
       "3          High income    b  2012   \n",
       "4  Lower-middle income  NaN  2009   \n",
       "\n",
       "   Annual number of hours actually worked per person Repository (code)  \\\n",
       "0                                               2013              LIMA   \n",
       "1                                               2017              LIMA   \n",
       "2                                               1820              LIMA   \n",
       "3                                               2048               NSO   \n",
       "4                                               1826               NSO   \n",
       "\n",
       "                        Repository Type of source (code)  \\\n",
       "0  Labour Overview (various years)                    HS   \n",
       "1  Labour Overview (various years)                    HS   \n",
       "2  Labour Overview (various years)                    HS   \n",
       "3       National Statistics Office                   LFS   \n",
       "4       National Statistics Office                    HS   \n",
       "\n",
       "                     Type of source Coverage (code) Coverage  \\\n",
       "0  Household or labour force survey               T    Total   \n",
       "1  Household or labour force survey               T    Total   \n",
       "2  Household or labour force survey               T    Total   \n",
       "3               Labour force survey               T    Total   \n",
       "4  Household or labour force survey               T    Total   \n",
       "\n",
       "  Coverage (employment) (code) Coverage (employment)  Survey limitation  \\\n",
       "0                           TE      Total employment                NaN   \n",
       "1                           TE      Total employment                NaN   \n",
       "2                           TE      Total employment                NaN   \n",
       "3                           TE      Total employment                NaN   \n",
       "4                           TE      Total employment                NaN   \n",
       "\n",
       "                                               Notes  \n",
       "0                                                NaN  \n",
       "1                                                NaN  \n",
       "2                                                NaN  \n",
       "3  Average hours actually worked per week annuali...  \n",
       "4  Annual hours worked calculated on the basis of...  "
      ]
     },
     "execution_count": 29,
     "metadata": {},
     "output_type": "execute_result"
    }
   ],
   "source": [
    "data.head()"
   ]
  },
  {
   "cell_type": "code",
   "execution_count": 30,
   "metadata": {
    "collapsed": false
   },
   "outputs": [
    {
     "data": {
      "text/plain": [
       "Index(['Country (code)', 'Country', 'Region', 'Sub-region (broad)',\n",
       "       'Sub-region (detailed)', 'Income group (code)', 'Income group', 'B',\n",
       "       'Year', 'Annual number of hours actually worked per person',\n",
       "       'Repository (code)', 'Repository', 'Type of source (code)',\n",
       "       'Type of source', 'Coverage (code)', 'Coverage',\n",
       "       'Coverage (employment) (code)', 'Coverage (employment)',\n",
       "       'Survey limitation', 'Notes'],\n",
       "      dtype='object')"
      ]
     },
     "execution_count": 30,
     "metadata": {},
     "output_type": "execute_result"
    }
   ],
   "source": [
    "data.columns"
   ]
  },
  {
   "cell_type": "code",
   "execution_count": null,
   "metadata": {
    "collapsed": true
   },
   "outputs": [],
   "source": []
  },
  {
   "cell_type": "code",
   "execution_count": 5,
   "metadata": {
    "collapsed": true
   },
   "outputs": [],
   "source": [
    "# country"
   ]
  },
  {
   "cell_type": "code",
   "execution_count": 31,
   "metadata": {
    "collapsed": true
   },
   "outputs": [],
   "source": [
    "country = data[['Country (code)', 'Country']].drop_duplicates().copy()"
   ]
  },
  {
   "cell_type": "code",
   "execution_count": 32,
   "metadata": {
    "collapsed": true
   },
   "outputs": [],
   "source": [
    "country.columns = ['country', 'name']"
   ]
  },
  {
   "cell_type": "code",
   "execution_count": null,
   "metadata": {
    "collapsed": true
   },
   "outputs": [],
   "source": []
  },
  {
   "cell_type": "code",
   "execution_count": 33,
   "metadata": {
    "collapsed": true
   },
   "outputs": [],
   "source": [
    "country['country'] = country['country'].map(to_concept_id)"
   ]
  },
  {
   "cell_type": "code",
   "execution_count": 34,
   "metadata": {
    "collapsed": true
   },
   "outputs": [],
   "source": [
    "country.to_csv('../ddf--entities--country.csv', index=False)"
   ]
  },
  {
   "cell_type": "code",
   "execution_count": null,
   "metadata": {
    "collapsed": true
   },
   "outputs": [],
   "source": []
  },
  {
   "cell_type": "code",
   "execution_count": null,
   "metadata": {
    "collapsed": true
   },
   "outputs": [],
   "source": []
  },
  {
   "cell_type": "code",
   "execution_count": null,
   "metadata": {
    "collapsed": true
   },
   "outputs": [],
   "source": []
  },
  {
   "cell_type": "code",
   "execution_count": 15,
   "metadata": {
    "collapsed": true
   },
   "outputs": [],
   "source": [
    "# concepts"
   ]
  },
  {
   "cell_type": "code",
   "execution_count": 37,
   "metadata": {
    "collapsed": true
   },
   "outputs": [],
   "source": [
    "discs = ['Name', 'Year', 'Country']\n",
    "\n",
    "conc = ['Annual number of hours actually worked per person']"
   ]
  },
  {
   "cell_type": "code",
   "execution_count": 38,
   "metadata": {
    "collapsed": false
   },
   "outputs": [],
   "source": [
    "cdf = pd.DataFrame([], columns=['concept', 'name', 'concept_type'])\n",
    "\n",
    "cdf['name'] = [*discs, *conc]\n",
    "\n",
    "cdf['concept'] = cdf['name'].map(to_concept_id)"
   ]
  },
  {
   "cell_type": "code",
   "execution_count": 39,
   "metadata": {
    "collapsed": true
   },
   "outputs": [],
   "source": [
    "cdf.loc[3, 'concept_type'] = 'measure'\n",
    "cdf.loc[0, 'concept_type'] = 'string'\n",
    "cdf.loc[1, 'concept_type'] = 'time'\n",
    "cdf.loc[2, 'concept_type'] = 'entity_domain'"
   ]
  },
  {
   "cell_type": "code",
   "execution_count": 40,
   "metadata": {
    "collapsed": false
   },
   "outputs": [
    {
     "data": {
      "text/html": [
       "<div>\n",
       "<table border=\"1\" class=\"dataframe\">\n",
       "  <thead>\n",
       "    <tr style=\"text-align: right;\">\n",
       "      <th></th>\n",
       "      <th>concept</th>\n",
       "      <th>name</th>\n",
       "      <th>concept_type</th>\n",
       "    </tr>\n",
       "  </thead>\n",
       "  <tbody>\n",
       "    <tr>\n",
       "      <th>0</th>\n",
       "      <td>name</td>\n",
       "      <td>Name</td>\n",
       "      <td>string</td>\n",
       "    </tr>\n",
       "    <tr>\n",
       "      <th>1</th>\n",
       "      <td>year</td>\n",
       "      <td>Year</td>\n",
       "      <td>time</td>\n",
       "    </tr>\n",
       "    <tr>\n",
       "      <th>2</th>\n",
       "      <td>country</td>\n",
       "      <td>Country</td>\n",
       "      <td>entity_domain</td>\n",
       "    </tr>\n",
       "    <tr>\n",
       "      <th>3</th>\n",
       "      <td>annual_number_of_hours_actually_worked_per_person</td>\n",
       "      <td>Annual number of hours actually worked per person</td>\n",
       "      <td>measure</td>\n",
       "    </tr>\n",
       "  </tbody>\n",
       "</table>\n",
       "</div>"
      ],
      "text/plain": [
       "                                             concept  \\\n",
       "0                                               name   \n",
       "1                                               year   \n",
       "2                                            country   \n",
       "3  annual_number_of_hours_actually_worked_per_person   \n",
       "\n",
       "                                                name   concept_type  \n",
       "0                                               Name         string  \n",
       "1                                               Year           time  \n",
       "2                                            Country  entity_domain  \n",
       "3  Annual number of hours actually worked per person        measure  "
      ]
     },
     "execution_count": 40,
     "metadata": {},
     "output_type": "execute_result"
    }
   ],
   "source": [
    "cdf"
   ]
  },
  {
   "cell_type": "code",
   "execution_count": 41,
   "metadata": {
    "collapsed": true
   },
   "outputs": [],
   "source": [
    "cdf.to_csv('../ddf--concepts.csv', index=False)"
   ]
  },
  {
   "cell_type": "code",
   "execution_count": null,
   "metadata": {
    "collapsed": true
   },
   "outputs": [],
   "source": []
  },
  {
   "cell_type": "code",
   "execution_count": null,
   "metadata": {
    "collapsed": true
   },
   "outputs": [],
   "source": []
  },
  {
   "cell_type": "code",
   "execution_count": null,
   "metadata": {
    "collapsed": true
   },
   "outputs": [],
   "source": [
    "# datapoints"
   ]
  },
  {
   "cell_type": "code",
   "execution_count": 42,
   "metadata": {
    "collapsed": true
   },
   "outputs": [],
   "source": [
    "dps = data[['Country (code)','Year', *conc]].copy()"
   ]
  },
  {
   "cell_type": "code",
   "execution_count": 43,
   "metadata": {
    "collapsed": true
   },
   "outputs": [],
   "source": [
    "dps.columns = ['country', 'year', *[to_concept_id(x) for x in conc]]"
   ]
  },
  {
   "cell_type": "code",
   "execution_count": 44,
   "metadata": {
    "collapsed": true
   },
   "outputs": [],
   "source": [
    "dps['country'] = dps['country'].map(to_concept_id)"
   ]
  },
  {
   "cell_type": "code",
   "execution_count": 47,
   "metadata": {
    "collapsed": false
   },
   "outputs": [],
   "source": [
    "dps.to_csv('../ddf--datapoints--annual_number_of_hours_actually_worked_per_person--by--country--year.csv', index=False)"
   ]
  },
  {
   "cell_type": "code",
   "execution_count": null,
   "metadata": {
    "collapsed": true
   },
   "outputs": [],
   "source": []
  },
  {
   "cell_type": "code",
   "execution_count": null,
   "metadata": {
    "collapsed": true
   },
   "outputs": [],
   "source": []
  },
  {
   "cell_type": "code",
   "execution_count": null,
   "metadata": {
    "collapsed": true
   },
   "outputs": [],
   "source": []
  },
  {
   "cell_type": "code",
   "execution_count": 24,
   "metadata": {
    "collapsed": false
   },
   "outputs": [],
   "source": [
    "import ddf_utils.ddf_reader as ddf"
   ]
  },
  {
   "cell_type": "code",
   "execution_count": 25,
   "metadata": {
    "collapsed": true
   },
   "outputs": [],
   "source": [
    "ddf.SEARCH_PATH = '/Users/semio/src/work/Gapminder/'"
   ]
  },
  {
   "cell_type": "code",
   "execution_count": 45,
   "metadata": {
    "collapsed": false,
    "scrolled": true
   },
   "outputs": [
    {
     "data": {
      "text/html": [
       "<div>\n",
       "<table border=\"1\" class=\"dataframe\">\n",
       "  <thead>\n",
       "    <tr style=\"text-align: right;\">\n",
       "      <th></th>\n",
       "      <th>geo</th>\n",
       "      <th>working_hours_per_week</th>\n",
       "      <th>time</th>\n",
       "    </tr>\n",
       "  </thead>\n",
       "  <tbody>\n",
       "    <tr>\n",
       "      <th>0</th>\n",
       "      <td>arg</td>\n",
       "      <td>38.71</td>\n",
       "      <td>1990</td>\n",
       "    </tr>\n",
       "    <tr>\n",
       "      <th>1</th>\n",
       "      <td>arg</td>\n",
       "      <td>38.79</td>\n",
       "      <td>1997</td>\n",
       "    </tr>\n",
       "    <tr>\n",
       "      <th>2</th>\n",
       "      <td>arg</td>\n",
       "      <td>35.00</td>\n",
       "      <td>1999</td>\n",
       "    </tr>\n",
       "    <tr>\n",
       "      <th>3</th>\n",
       "      <td>aus</td>\n",
       "      <td>34.58</td>\n",
       "      <td>1980</td>\n",
       "    </tr>\n",
       "    <tr>\n",
       "      <th>4</th>\n",
       "      <td>aus</td>\n",
       "      <td>34.58</td>\n",
       "      <td>1981</td>\n",
       "    </tr>\n",
       "  </tbody>\n",
       "</table>\n",
       "</div>"
      ],
      "text/plain": [
       "   geo  working_hours_per_week  time\n",
       "0  arg                   38.71  1990\n",
       "1  arg                   38.79  1997\n",
       "2  arg                   35.00  1999\n",
       "3  aus                   34.58  1980\n",
       "4  aus                   34.58  1981"
      ]
     },
     "execution_count": 45,
     "metadata": {},
     "output_type": "execute_result"
    }
   ],
   "source": [
    "ddf.ddf_datapoint('ddf--gapminder--gapminder_world', 'working_hours_per_week').head()"
   ]
  },
  {
   "cell_type": "code",
   "execution_count": null,
   "metadata": {
    "collapsed": true
   },
   "outputs": [],
   "source": []
  }
 ],
 "metadata": {
  "kernelspec": {
   "display_name": "Python 3",
   "language": "python",
   "name": "python3"
  },
  "language_info": {
   "codemirror_mode": {
    "name": "ipython",
    "version": 3
   },
   "file_extension": ".py",
   "mimetype": "text/x-python",
   "name": "python",
   "nbconvert_exporter": "python",
   "pygments_lexer": "ipython3",
   "version": "3.5.1"
  }
 },
 "nbformat": 4,
 "nbformat_minor": 0
}
